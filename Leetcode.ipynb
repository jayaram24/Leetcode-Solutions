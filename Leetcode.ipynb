{
 "cells": [
  {
   "cell_type": "markdown",
   "metadata": {},
   "source": [
    "<h1>#125. Valid Palindrome</h1>"
   ]
  },
  {
   "cell_type": "code",
   "execution_count": null,
   "metadata": {},
   "outputs": [],
   "source": [
    "# Version-1: Empty string or complete non-alphanumeric strings is not considered as input\n",
    "s = \"A man, a plan, a canal: Panama\" \n",
    "stri = s.casefold()\n",
    "first = 0\n",
    "last = len(stri) - 1\n",
    "#print(stri[last])\n",
    "\n",
    "while first < last:\n",
    "    ##print(stri[first].isalnum())\n",
    "    print(\"first = \", stri[first])\n",
    "    print(\"last = \", stri[last])\n",
    "    while not stri[first].isalnum():\n",
    "        #print(\"first-while ----> first = \", stri[first])\n",
    "        ##print(\"first-while ----> last = \", stri[last])\n",
    "        first = first + 1\n",
    "        if stri[first].isalnum():\n",
    "            break\n",
    "    while not stri[last].isalnum():\n",
    "        ##print(\"first-while ----> first = \", stri[first])\n",
    "        #print(\"second-while ----> last = \", stri[last])\n",
    "        last = last - 1\n",
    "        if stri[last].isalnum():\n",
    "            break\n",
    "    if stri[first] != stri[last]:\n",
    "        print(\"False\")\n",
    "    else:\n",
    "        print(\"True\")\n",
    "    first = first + 1\n",
    "    last = last - 1"
   ]
  },
  {
   "cell_type": "code",
   "execution_count": null,
   "metadata": {},
   "outputs": [],
   "source": [
    "# Version-1: Even empty or complete non-alphanumeric string input is considered as palindrome and an TRUE output is returned.\n",
    "s = \"A man, a plan, a canal: Panama\" \n",
    "stri = s.casefold()\n",
    "first = 0\n",
    "last = len(stri) - 1\n",
    "\n",
    "while first < last:\n",
    "    while not stri[first].isalnum():\n",
    "        first = first + 1\n",
    "#This below if else condition is to print True for empty strings (as palindrome) \n",
    "        if first == last:\n",
    "            #return True\n",
    "            print(\"True--\")\n",
    "        else:\n",
    "            if stri[first].isalnum():\n",
    "                break\n",
    "    while not stri[last].isalnum():\n",
    "        last = last - 1\n",
    "        if stri[last].isalnum():\n",
    "            break\n",
    "    if stri[first] != stri[last]:\n",
    "        #return False\n",
    "        print(\"False\")\n",
    "    first = first + 1\n",
    "    last = last - 1\n",
    "#return True\n",
    "print(\"True\")"
   ]
  },
  {
   "cell_type": "code",
   "execution_count": null,
   "metadata": {},
   "outputs": [],
   "source": []
  },
  {
   "cell_type": "code",
   "execution_count": null,
   "metadata": {},
   "outputs": [],
   "source": []
  },
  {
   "cell_type": "code",
   "execution_count": null,
   "metadata": {},
   "outputs": [],
   "source": []
  },
  {
   "cell_type": "code",
   "execution_count": null,
   "metadata": {},
   "outputs": [],
   "source": []
  },
  {
   "cell_type": "code",
   "execution_count": null,
   "metadata": {},
   "outputs": [],
   "source": []
  }
 ],
 "metadata": {
  "kernelspec": {
   "display_name": "Python 3",
   "language": "python",
   "name": "python3"
  },
  "language_info": {
   "codemirror_mode": {
    "name": "ipython",
    "version": 3
   },
   "file_extension": ".py",
   "mimetype": "text/x-python",
   "name": "python",
   "nbconvert_exporter": "python",
   "pygments_lexer": "ipython3",
   "version": "3.7.4"
  }
 },
 "nbformat": 4,
 "nbformat_minor": 2
}
